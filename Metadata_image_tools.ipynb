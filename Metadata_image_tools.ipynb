{
  "nbformat": 4,
  "nbformat_minor": 0,
  "metadata": {
    "colab": {
      "provenance": [],
      "authorship_tag": "ABX9TyObTqOQ6Ygb9QqzdM2j7qHv",
      "include_colab_link": true
    },
    "kernelspec": {
      "name": "python3",
      "display_name": "Python 3"
    },
    "language_info": {
      "name": "python"
    }
  },
  "cells": [
    {
      "cell_type": "markdown",
      "metadata": {
        "id": "view-in-github",
        "colab_type": "text"
      },
      "source": [
        "<a href=\"https://colab.research.google.com/github/ShuqairABD/MetaData-tools/blob/main/Metadata_image_tools.ipynb\" target=\"_parent\"><img src=\"https://colab.research.google.com/assets/colab-badge.svg\" alt=\"Open In Colab\"/></a>"
      ]
    },
    {
      "cell_type": "markdown",
      "source": [
        "# !pip / libraries"
      ],
      "metadata": {
        "id": "nuW83i5mO_1t"
      }
    },
    {
      "cell_type": "code",
      "source": [
        "# !pip install xmp\n",
        "# !pip install python-xmp-toolkit\n",
        "# !pip install pyexiv2\n",
        "# !pip install piexif\n",
        "# !apt-get install -y exiftool\n",
        "# !pip install iptcinfo3"
      ],
      "metadata": {
        "id": "YNEzrsf-iDXn"
      },
      "execution_count": null,
      "outputs": []
    },
    {
      "cell_type": "code",
      "source": [
        "import os\n",
        "import shutil\n",
        "from google.colab import files\n",
        "import ipywidgets as widgets\n",
        "from ipywidgets import interact, interactive, fixed, interact_manual\n",
        "from time import sleep\n",
        "from ipywidgets import interact_manual, Dropdown, Text\n",
        "from ipywidgets import Text, Dropdown, Button, widgets\n",
        "from iptcinfo3 import IPTCInfo\n",
        "import piexif\n",
        "from zipfile import ZipFile"
      ],
      "metadata": {
        "id": "c3vy0v0n8ZjB"
      },
      "execution_count": 7,
      "outputs": []
    },
    {
      "cell_type": "markdown",
      "source": [
        "# **functions**"
      ],
      "metadata": {
        "id": "jQX_uMg_Gv2x"
      }
    },
    {
      "cell_type": "code",
      "execution_count": null,
      "metadata": {
        "id": "QLvRQ5XXGG8X"
      },
      "outputs": [],
      "source": [
        "# Функция для добавления ключевого слова в метаданные XMP\n",
        "def add_keyword_xmp(image_path, keyword):\n",
        "    try:\n",
        "        os.system(f'exiftool -XMP:Subject+=\" {keyword}\" \"{image_path}\"')\n",
        "        print(f\"Ключевое слово '{keyword}' добавлено к метаданным XMP {image_path}\")\n",
        "    except Exception as e:\n",
        "        print(f\"Ошибка при добавлении ключевого слова к метаданным XMP {image_path}: {str(e)}\")\n",
        "\n",
        "\n",
        "# Функция для добавления ключевых слов в метаданные EXIF\n",
        "def add_keywords_to_image_exif(image_path, keywords):\n",
        "    try:\n",
        "        # Загрузка существующих метаданных EXIF\n",
        "        exif_dict = piexif.load(image_path)\n",
        "\n",
        "        # Извлечение существующих ключевых слов\n",
        "        existing_keywords = exif_dict[\"Exif\"].get(piexif.ExifIFD.UserComment, b\"\").decode(\"utf-8\")\n",
        "        existing_keywords_list = existing_keywords.split(\",\") if existing_keywords else []\n",
        "\n",
        "        # Добавление новых ключевых слов к существующим\n",
        "        existing_keywords_list.extend(keywords)\n",
        "\n",
        "        # Объединение ключевых слов обратно в строку\n",
        "        keyword_str = \",\".join(existing_keywords_list)\n",
        "\n",
        "        # Кодирование ключевых слов в байты и обновление метаданных EXIF\n",
        "        exif_dict[\"Exif\"][piexif.ExifIFD.UserComment] = keyword_str.encode('utf-8')\n",
        "\n",
        "        # Преобразование метаданных EXIF обратно в двоичный формат\n",
        "        exif_bytes = piexif.dump(exif_dict)\n",
        "\n",
        "        # Вставка обновленных метаданных EXIF в файл изображения\n",
        "        piexif.insert(exif_bytes, image_path)\n",
        "\n",
        "        print(f\"Ключевые слова '{keywords}' добавлены к метаданным EXIF.\")\n",
        "    except Exception as e:\n",
        "        print(f\"Произошла ошибка при добавлении ключевых слов к метаданным EXIF: {str(e)}\")\n",
        "\n",
        "\n",
        "# Функция для добавления ключевых слов в метаданные IPTC\n",
        "def add_keywords_to_image_iptc(image_path, keywords):\n",
        "    try:\n",
        "        info = IPTCInfo(image_path)\n",
        "        existing_keywords = info['keywords']\n",
        "        for keyword in keywords:\n",
        "            if keyword not in existing_keywords:\n",
        "                existing_keywords.append(keyword)\n",
        "        info['keywords'] = existing_keywords\n",
        "        info.save()\n",
        "        print(f\"Ключевые слова '{keywords}' добавлены к метаданным IPTC.\")\n",
        "    except Exception as e:\n",
        "        print(f\"Произошла ошибка при добавлении ключевых слов к метаданным IPTC: {str(e)}\")\n",
        "\n",
        "# Функция для тегирования изображений в зависимости от выбранного метода\n",
        "def tag_images(folder_path, method, keywords):\n",
        "    tagged_images = []  # Список для хранения путей к тегированным изображениям\n",
        "\n",
        "    try:\n",
        "        if method == 'XMP':\n",
        "            for filename in os.listdir(folder_path):\n",
        "                if filename.endswith(('.jpg', '.jpeg', '.png')):\n",
        "                    image_path = os.path.join(folder_path, filename)\n",
        "                    add_keyword_xmp(image_path, keywords)\n",
        "                    tagged_images.append(image_path)\n",
        "        elif method == 'EXIF':\n",
        "            for filename in os.listdir(folder_path):\n",
        "                if filename.endswith(('.jpg', '.jpeg', '.png')):\n",
        "                    image_path = os.path.join(folder_path, filename)\n",
        "                    add_keywords_to_image_exif(image_path, keywords)\n",
        "                    tagged_images.append(image_path)\n",
        "        elif method == 'IPTC':\n",
        "            for filename in os.listdir(folder_path):\n",
        "                if filename.endswith(('.jpg', '.jpeg', '.png')):\n",
        "                    image_path = os.path.join(folder_path, filename)\n",
        "                    add_keywords_to_image_iptc(image_path, keywords)\n",
        "                    tagged_images.append(image_path)\n",
        "        elif method == 'All':\n",
        "            for m in ['XMP', 'EXIF', 'IPTC']:\n",
        "                for filename in os.listdir(folder_path):\n",
        "                    if filename.endswith(('.jpg', '.jpeg', '.png')):\n",
        "                        image_path = os.path.join(folder_path, filename)\n",
        "                        if m == 'XMP':\n",
        "                            add_keyword_xmp(image_path, keywords)\n",
        "                        elif m == 'EXIF':\n",
        "                            add_keywords_to_image_exif(image_path, keywords)\n",
        "                        elif m == 'IPTC':\n",
        "                            add_keywords_to_image_iptc(image_path, keywords)\n",
        "                        tagged_images.append(image_path)\n",
        "\n",
        "        else:\n",
        "            print(\"Выбран неверный метод.\")\n",
        "\n",
        "        # Создание zip-папки и добавление в нее тегированных изображений\n",
        "        with ZipFile(\"tagged_images.zip\", \"w\") as zipf:\n",
        "            for image_path in tagged_images:\n",
        "                zipf.write(image_path, os.path.basename(image_path))\n",
        "        print(\"Тегированные изображения добавлены в zip-папку.\")\n",
        "\n",
        "    except Exception as e:\n",
        "        print(f\"Ошибка: {e}\")\n",
        "\n",
        "# Интерактивный интерфейс для тегирования изображений\n",
        "def interactive_tagging():\n",
        "    folder_text = Text(value='', description='Путь к папке:')\n",
        "    method_dropdown = Dropdown(options=['All', 'XMP', 'EXIF', 'IPTC'], description='Метод:')\n",
        "\n",
        "    keyword_text = Text(value='', description='Ключевые слова:')\n",
        "    button = Button(description=\"Добавить ключевые слова\")\n",
        "\n",
        "    def on_button_clicked(b):\n",
        "        folder_path = folder_text.value\n",
        "        method = method_dropdown.value\n",
        "        keywords = keyword_text.value.split(',')\n",
        "        tag_images(folder_path, method, keywords)\n",
        "\n",
        "    button.on_click(on_button_clicked)\n",
        "\n",
        "    display(folder_text)\n",
        "    display(method_dropdown)\n",
        "    display(keyword_text)\n",
        "    display(button)\n",
        "\n",
        "# Запуск интерактивного интерфейса\n",
        "interactive_tagging()\n"
      ]
    }
  ]
}